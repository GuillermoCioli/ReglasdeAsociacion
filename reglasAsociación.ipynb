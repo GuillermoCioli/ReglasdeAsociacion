{
  "nbformat": 4,
  "nbformat_minor": 0,
  "metadata": {
    "colab": {
      "provenance": [],
      "collapsed_sections": [
        "bZI-8rETuaOp"
      ]
    },
    "kernelspec": {
      "display_name": "Python 3",
      "name": "python3"
    },
    "language_info": {
      "name": "python"
    }
  },
  "cells": [
    {
      "cell_type": "markdown",
      "metadata": {
        "id": "iVZpGTCDqsQQ"
      },
      "source": [
        "# Reglas de asociación\n",
        "\n",
        "Este cuaderno tiene como propósito ayudarte a realizar una búsqueda de reglas de asociación en tus datos, las cuales describen relaciones entre las variables en estos. Por ejemplo, si tus datos fueran recibos de compras, las reglas de asociación señalarían que productos se compran juntos con cierta frecuencia; si tus datos fueran libros o películas comprados o rentados por los clientes de una biblioteca o un servicio de películas como Netflix, entonces los reglas de asociación indicarían que libros o películas son leídos o vistos frecuentemente por una misma persona.\n",
        "\n",
        "## Biblioteca\n",
        "\n",
        "A lo largo del desarrollo de la Inteligencia Artificial y el Aprendizaje Automático se han utilizado una variedad de lenguajes de programación, incluyendo lenguajes diseñados específicamente para esas áreas, como es el caso de Lisp y Prolog. Actualmente, con la prevalencial aprendizaje automático subsimbólico —esto es, basado más en cálculos numéricos que en lógica y procesamiento simbólico— uno de los lenguajes más usados en el área es Python, para el cual se han estado desarrollando una amplia colección de bibliotecas que facilitan mucho el desarrollo y aplicación del aprendizaje automático a una variedad de problemas.\n",
        "\n",
        "Proceceremos así a cargar la biblioteca Pandas para la gestión de datos, así como la biblioteca Apyori para la búsqueda de reglas de asociación, usando el algoritmo conocido como [Apriori](https://en.wikipedia.org/wiki/Apriori_algorithm).\n",
        "\n",
        "Como esta biblioteca no se usan con tanta frecuencia, necesitamos instalarla antes de cargarla.\n"
      ]
    },
    {
      "cell_type": "code",
      "metadata": {
        "id": "s4cqmctRrEgi"
      },
      "source": [
        "import pandas as pd\n",
        "!pip install apyori\n",
        "from apyori import apriori"
      ],
      "execution_count": null,
      "outputs": []
    },
    {
      "cell_type": "markdown",
      "metadata": {
        "id": "VwHSd17JuGrn"
      },
      "source": [
        "Además, como estás ejecutando este código de manera remota, en Google Colab, necesitamos también incluir bibliotecas para subir tu archivo CSV."
      ]
    },
    {
      "cell_type": "code",
      "metadata": {
        "id": "VtGXBbaNuPqT"
      },
      "source": [
        "import io\n",
        "from google.colab import files"
      ],
      "execution_count": null,
      "outputs": []
    },
    {
      "cell_type": "markdown",
      "metadata": {
        "id": "bZI-8rETuaOp"
      },
      "source": [
        "## Preparación de datos\n",
        "\n",
        "Procedemos entonces a subir los datos en tres etapas: damos el nombre del archivo de datos a subir, lo seleccionamos y luego lo cargamos en un *dataframe* (una especie de hoja de cálculo).\n",
        "\n",
        "Confirmamos la lectura completa del archivo visualizando sus columnas (variables) y los tipos de éstas."
      ]
    },
    {
      "cell_type": "code",
      "metadata": {
        "id": "w_QDmmi7u2rz"
      },
      "source": [
        "filename = input('Nombre de tu archivo CSV: ')\n",
        "print(f'Confirmo el nombre del archivo: {filename}')\n",
        "\n",
        "uploaded = files.upload()\n",
        "dataframe = pd.read_csv(io.BytesIO(uploaded[filename]), encoding='utf-8')\n",
        "dataframe.dtypes"
      ],
      "execution_count": null,
      "outputs": []
    },
    {
      "cell_type": "markdown",
      "metadata": {
        "id": "M8OjcuyCKV5Y"
      },
      "source": [
        "Ahora seleccionamos las variables que se usarán para realizar la búsqueda de reglas de asociación.\n",
        "\n",
        "La búsqueda de reglas de asociación funciona mejor cuando tenemos datos de tipo nominal u ordinal. Esto es, con columnas cuyos valores son cadenas de caracteres (apareceran arriba como de tipo `object`."
      ]
    },
    {
      "cell_type": "code",
      "metadata": {
        "id": "a0Dg0KRUKu6t"
      },
      "source": [
        "# La lista con los nombres de todas las variables.\n",
        "all_variables = list(dataframe.columns)\n",
        "\n",
        "# Lee los nombres de las variables que serán usadas para realizar\n",
        "# el análisis de cúmulos.\n",
        "print('¿Cuáles variables te interesa usar para el análisis?')\n",
        "print('Escribe sus nombres, uno en cada renglón.')\n",
        "print('Cuando hayas acabado, teclea solamente ↲')\n",
        "clustering_variables = []\n",
        "i = 1\n",
        "\n",
        "variable = input(f'Variable {i}: ')\n",
        "while variable != '':\n",
        "  if not (variable in all_variables):\n",
        "    print(f'La variable {variable} no existe en tus datos. Intenta de nuevo')\n",
        "  else:\n",
        "    clustering_variables.append(variable)\n",
        "    i += 1\n",
        "  variable = input(f'Variable {i}: ')\n",
        "\n",
        "print(f'¡Listo! Te confirmo las variables que escogiste:\\n{clustering_variables}')"
      ],
      "execution_count": null,
      "outputs": []
    },
    {
      "cell_type": "markdown",
      "metadata": {
        "id": "Hj6ReP0ozgcX"
      },
      "source": [
        "A continuación separamos las variables que se van a usar para la búsqueda de reglas de asociación."
      ]
    },
    {
      "cell_type": "code",
      "metadata": {
        "id": "wyp-83G80PAi"
      },
      "source": [
        "data = dataframe[clustering_variables]"
      ],
      "execution_count": null,
      "outputs": []
    },
    {
      "cell_type": "markdown",
      "metadata": {
        "id": "1LKT-Uo-1ph1"
      },
      "source": [
        "## Búsqueda de reglas de asociación\n",
        "\n",
        "Una regla de asociación tiene la forma general\n",
        "$$\n",
        "  x_1, x_2,\\dots, x_n \\to y\n",
        "$$\n",
        "y se interpreta como ‘si $x_1,x_2,\\dots, x_n$ aparecen en un renglón, entonces es *frecuente* que $y$ también aparezca en ese renglón‘.\n",
        "\n",
        "El ejemplo clásico es $n=2$, $x_1 = \\mbox{hombre}$, $x_2 = \\mbox{cerveza}$ y $y = \\mbox{pañales}$, que se lee como ‘un hombre que compra cervezas (en el supermercado) con frecuencia compra también pañales’ ---lo que llevó a poner los pañales cerca de las cervezas en el supermercado.\n",
        "\n",
        "Otro ejemplo sería, ‘quién ve la película $x$, con frecuencia ve la película $y$’.\n",
        "\n",
        "### Preparación final de datos.\n",
        "\n",
        "Para la búsqueda de reglas de asociación, primero convertimos la “hoja de cálculo” que tenemos en una lista de renglones, que es el formato solicitado por la biblioteca que estamos utilizando."
      ]
    },
    {
      "cell_type": "code",
      "metadata": {
        "id": "2i2QD5qA1sfr"
      },
      "source": [
        "records = []\n",
        "for i in range(1, data.shape[0]):\n",
        "    records.append([str(data.values[i, j]) for j in range(data.shape[1])])\n",
        "\n",
        "# Imprime el primero y el último renglones.\n",
        "print(records[0])\n",
        "print(records[len(records)-1])"
      ],
      "execution_count": null,
      "outputs": []
    },
    {
      "cell_type": "markdown",
      "metadata": {
        "id": "lb_0-PzF2u0N"
      },
      "source": [
        "### Ejecución del algoritmo *Apriori*\n",
        "\n",
        "El algoritmo de búsqueda de reglas de asociación recibe cuatro argumentos además de la lista de renglones:\n",
        "\n",
        "1. *Soporte mínimo* (`min_support`): el porcentaje mínimo de renglones en los que debe aparecer un elemento para poder incluirlo en una regla de asociación.\n",
        "\n",
        "2. *Confianza mínima* (`min_confidence`): el porcentaje de veces que $y$ tiene que aparecer cuando aparece $x$ para poder incluir la regla $x\\to y$.\n",
        "\n",
        "3. *Impulso mínimo* (`min_lift`): el valor mínimo del cociente de la confianza en $x\\to y$ entre el soporte para $y$. Esto es, el porcentaje mínimo de las veces que aparece $y$ cuando aparece $x$ entre el porcentaje de veces que aparece $y$. Se puede interpretar como la confianza en la regla de parte de $y$.\n",
        "\n",
        "Valores relativamente grandes en estos argumentos tienden a producir pocas reglas, con buen sustento en los datos, en tanto que valores relativamente pequeños tienden a producir muchas reglas pero con menor sustento en los datos. \n"
      ]
    },
    {
      "cell_type": "code",
      "metadata": {
        "id": "kgzXBPmy3BIA"
      },
      "source": [
        "support = 0.2\n",
        "confidence = 0.4\n",
        "lift = 1.0"
      ],
      "execution_count": null,
      "outputs": []
    },
    {
      "cell_type": "markdown",
      "metadata": {
        "id": "BCIXtalExMI7"
      },
      "source": [
        "Ejecutamos el algoritmo y recuperamos las reglas encontradas, vemos cuántas son y luego las ponemos en forma de hoja de cálculo para facilitar su visualización y almacenado."
      ]
    },
    {
      "cell_type": "code",
      "metadata": {
        "id": "fd_nzzB1xaNL"
      },
      "source": [
        "rules = apriori(records, min_support = support, \n",
        "                min_confidence = confidence, min_lift = lift)\n",
        "results = list(rules)\n",
        "print(f'Se encontraron {len(results)} reglas.')\n",
        "results_frame = pd.DataFrame(results)"
      ],
      "execution_count": null,
      "outputs": []
    },
    {
      "cell_type": "markdown",
      "metadata": {
        "id": "1Y3sI8XFxOnO"
      },
      "source": [
        "Finalmente, mostramos las reglas encontradas."
      ]
    },
    {
      "cell_type": "code",
      "metadata": {
        "id": "QQ-V9chR0gUT"
      },
      "source": [
        "results_frame.head(len(results_frame)-1)"
      ],
      "execution_count": null,
      "outputs": []
    }
  ]
}